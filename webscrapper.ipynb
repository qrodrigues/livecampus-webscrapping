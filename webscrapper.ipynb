{
 "cells": [
  {
   "cell_type": "code",
   "execution_count": null,
   "metadata": {},
   "outputs": [],
   "source": []
  },
  {
   "cell_type": "markdown",
   "metadata": {},
   "source": [
    "Le nom de la série\n",
    "Le numéro de l’épisode\n",
    "Le numéro de la saison\n",
    "La date de diffusion de l’épisode\n",
    "Le pays d’origine\n",
    "La chaîne qui diffuse la série\n",
    "L’url relative de la page de l’épisode sur le site spin-off\n",
    "(par exemple : episode01-408094-01102023-saison14-Bob-s-Burgers.html)"
   ]
  },
  {
   "cell_type": "code",
   "execution_count": null,
   "metadata": {},
   "outputs": [],
   "source": [
    "!pip install bs4"
   ]
  },
  {
   "cell_type": "code",
   "execution_count": null,
   "metadata": {},
   "outputs": [],
   "source": [
    "import requests\n",
    "from bs4 import BeautifulSoup\n",
    "import pprint\n",
    "pp = pprint.PrettyPrinter(indent=4)\n",
    "\n",
    "url = \"https://www.spin-off.fr/calendrier_des_series.html\"\n",
    "\n",
    "response = requests.get(url)\n",
    "code_source = response.text\n",
    "soup = BeautifulSoup(code_source, \"html\")\n",
    "\n",
    "series = []\n",
    "jours_tag = soup.find_all('td', class_=\"td_jour\")\n",
    "\n",
    "for jour in jours_tag:\n",
    "    div_jour_tag = jour.find(\"div\", class_=\"div_jour\")\n",
    "    date = div_jour_tag[\"id\"].split(\"jour_\")[1]\n",
    "    print(date)"
   ]
  },
  {
   "cell_type": "markdown",
   "metadata": {},
   "source": [
    "Le nom de la série\n",
    "Le numéro de l’épisode\n",
    "Le numéro de la saison\n",
    "La date de diffusion de l’épisode\n",
    "Le pays d’origine\n",
    "La chaîne qui diffuse la série\n",
    "L’url relative de la page de l’épisode sur le site spin-off\n",
    "(par exemple : episode01-408094-01102023-saison14-Bob-s-Burgers.html)"
   ]
  },
  {
   "cell_type": "code",
   "execution_count": null,
   "metadata": {},
   "outputs": [],
   "source": [
    "!pip install bs4"
   ]
  }
 ],
 "metadata": {
  "kernelspec": {
   "display_name": "env",
   "language": "python",
   "name": "python3"
  },
  "language_info": {
   "codemirror_mode": {
    "name": "ipython",
    "version": 3
   },
   "file_extension": ".py",
   "mimetype": "text/x-python",
   "name": "python",
   "nbconvert_exporter": "python",
   "pygments_lexer": "ipython3",
   "version": "3.11.2"
  }
 },
 "nbformat": 4,
 "nbformat_minor": 2
}
