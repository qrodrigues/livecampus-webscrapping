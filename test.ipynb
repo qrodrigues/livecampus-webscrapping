{
 "cells": [
  {
   "cell_type": "code",
   "execution_count": 19,
   "metadata": {},
   "outputs": [],
   "source": [
    "import pandas as pd\n",
    "import csv\n",
    "\n",
    "\n",
    "class ManagerCSV() : \n",
    "    def __init__(self,episodes) :\n",
    "        self.episodes = episodes\n",
    "\n",
    "    def data_to_df(self) : \n",
    "        data_to_df = {\n",
    "            \"series_name\" : [],\n",
    "            \"episode_number\" : [],\n",
    "            \"season_number\" : [],\n",
    "            \"air_date\" : [],\n",
    "            \"origin_country\" : [],\n",
    "            \"channel\" : [],\n",
    "            \"episode_url\" : [],\n",
    "            \"duration\":[]\n",
    "        }\n",
    "        try : \n",
    "            for episode in self.episodes :\n",
    "                data_to_df.get(\"series_name\").append(episode.get(\"series_name\"))\n",
    "                data_to_df.get(\"episode_number\").append(episode.get(\"episode_number\"))\n",
    "                data_to_df.get(\"season_number\").append(episode.get(\"season_number\"))\n",
    "                data_to_df.get(\"air_date\").append(episode.get(\"air_date\"))\n",
    "                data_to_df.get(\"origin_country\").append(episode.get(\"origin_country\"))\n",
    "                data_to_df.get(\"channel\").append(episode.get(\"channel\"))\n",
    "                data_to_df.get(\"episode_url\").append(episode.get(\"episode_url\"))\n",
    "                data_to_df.get(\"duration\").append(episode.get(\"duration\"))\n",
    "                print(data_to_df)\n",
    "                return data_to_df\n",
    "        except : \n",
    "            print(\"Erreur lors de la création du dataframe !\")\n",
    "            return None\n",
    "        \n",
    "\n",
    "\n",
    "    def df_to_csv(self,datas,path_file) :\n",
    "        try :\n",
    "            df = pd.DataFrame(datas)\n",
    "            df.to_csv(path_file,sep=';')\n",
    "            print(\"Fichier csv créé avec succès ! : \",path_file)\n",
    "            return True\n",
    "        except :\n",
    "            print(\"Erreur lors de la création du fichier csv\")\n",
    "            return False\n",
    "\n",
    "    def csv_to_tuples(self,fichier_csv) :\n",
    "        tuples = []\n",
    "        try : \n",
    "            with open(fichier_csv, 'r', encoding='utf-8') as csv_file:\n",
    "                csv_reader = csv.reader(csv_file, delimiter=';')\n",
    "                next(csv_reader) # Enleve la premiere ligne\n",
    "                for row in csv_reader:\n",
    "                    index = int(row[0])\n",
    "                    titre = str(row[1])\n",
    "                    saison = int(row[2])\n",
    "                    episode = int(row[3])\n",
    "                    date_diffusion = str(row[4])\n",
    "                    pays = str(row[5])\n",
    "                    chaine = str(row[6])\n",
    "                    lien = str(row[7])\n",
    "                    if int(row[8]) : \n",
    "                        duration = int(row[8])\n",
    "                        print(duration)\n",
    "                    tup = (index, titre, saison, episode, date_diffusion, pays, chaine, lien)\n",
    "                    tuples.append(tup)\n",
    "        except:\n",
    "            print(\"Erreur lors de la lecture du fichier csv !\", )\n",
    "            return False\n",
    "        return tuples\n",
    "\n",
    "    \n",
    "    def verify_types(self,tuples) : \n",
    "        types_tuples = []\n",
    "        for tup in tuples :\n",
    "            enum = {\n",
    "                \"int\" : \"integer\",\n",
    "                \"str\" : \"string\",\n",
    "            }\n",
    "            print(\"azdazdazdadazdazdadazdada\")\n",
    "            # print(type(tup[8]).__name__)\n",
    "            # types = (\n",
    "            #     enum.get(type(tup[0]).__name__),\n",
    "            #     enum.get(type(tup[1]).__name__),\n",
    "            #     enum.get(type(tup[2]).__name__),\n",
    "            #     enum.get(type(tup[3]).__name__),\n",
    "            #     enum.get(type(tup[4]).__name__),\n",
    "            #     enum.get(type(tup[5]).__name__),\n",
    "            #     enum.get(type(tup[6]).__name__),\n",
    "            #     enum.get(type(tup[7]).__name__),\n",
    "            #     enum.get(type(tup[8]).__name__),\n",
    "            #     )\n",
    "\n",
    "            # types_tuples.append(types)\n",
    "        # return types_tuples #Retourne une liste de tuples contenant les types des colonnes"
   ]
  },
  {
   "cell_type": "code",
   "execution_count": 15,
   "metadata": {},
   "outputs": [],
   "source": [
    "from webscrapper import ScrapEpisodes\n",
    "from ManagerCSV.ManagerCSV import ManagerCSV\n",
    "scrapper = ScrapEpisodes(\"https://www.spin-off.fr/calendrier_des_series.html\")\n",
    "episodes = scrapper.getAllEpisodes()\n"
   ]
  },
  {
   "cell_type": "code",
   "execution_count": 20,
   "metadata": {},
   "outputs": [
    {
     "name": "stdout",
     "output_type": "stream",
     "text": [
      "{'series_name': ['Arthdal Chronicles'], 'episode_number': [8], 'season_number': [2], 'air_date': ['01-10-2023'], 'origin_country': ['Corée du Sud'], 'channel': ['tvN'], 'episode_url': ['episode08-411009-01102023-saison2-Arthdal-Chronicles.html'], 'duration': [None]}\n",
      "Fichier csv créé avec succès ! :  ./data/files/episodes.csv\n",
      "Erreur lors de la lecture du fichier csv !\n"
     ]
    },
    {
     "ename": "TypeError",
     "evalue": "'bool' object is not iterable",
     "output_type": "error",
     "traceback": [
      "\u001b[1;31m---------------------------------------------------------------------------\u001b[0m",
      "\u001b[1;31mTypeError\u001b[0m                                 Traceback (most recent call last)",
      "\u001b[1;32mc:\\xampp\\htdocs\\livecampus-webscrapping\\test.ipynb Cell 3\u001b[0m line \u001b[0;36m5\n\u001b[0;32m      <a href='vscode-notebook-cell:/c%3A/xampp/htdocs/livecampus-webscrapping/test.ipynb#W1sZmlsZQ%3D%3D?line=2'>3</a>\u001b[0m csv_manager\u001b[39m.\u001b[39mdf_to_csv(csv_df,\u001b[39m\"\u001b[39m\u001b[39m./data/files/episodes.csv\u001b[39m\u001b[39m\"\u001b[39m)\n\u001b[0;32m      <a href='vscode-notebook-cell:/c%3A/xampp/htdocs/livecampus-webscrapping/test.ipynb#W1sZmlsZQ%3D%3D?line=3'>4</a>\u001b[0m csv_tuples \u001b[39m=\u001b[39m csv_manager\u001b[39m.\u001b[39mcsv_to_tuples(\u001b[39m\"\u001b[39m\u001b[39m./data/files/episodes.csv\u001b[39m\u001b[39m\"\u001b[39m)\n\u001b[1;32m----> <a href='vscode-notebook-cell:/c%3A/xampp/htdocs/livecampus-webscrapping/test.ipynb#W1sZmlsZQ%3D%3D?line=4'>5</a>\u001b[0m csv_types \u001b[39m=\u001b[39m csv_manager\u001b[39m.\u001b[39;49mverify_types(csv_tuples)\n",
      "\u001b[1;32mc:\\xampp\\htdocs\\livecampus-webscrapping\\test.ipynb Cell 3\u001b[0m line \u001b[0;36m7\n\u001b[0;32m     <a href='vscode-notebook-cell:/c%3A/xampp/htdocs/livecampus-webscrapping/test.ipynb#W1sZmlsZQ%3D%3D?line=73'>74</a>\u001b[0m \u001b[39mdef\u001b[39;00m \u001b[39mverify_types\u001b[39m(\u001b[39mself\u001b[39m,tuples) : \n\u001b[0;32m     <a href='vscode-notebook-cell:/c%3A/xampp/htdocs/livecampus-webscrapping/test.ipynb#W1sZmlsZQ%3D%3D?line=74'>75</a>\u001b[0m     types_tuples \u001b[39m=\u001b[39m []\n\u001b[1;32m---> <a href='vscode-notebook-cell:/c%3A/xampp/htdocs/livecampus-webscrapping/test.ipynb#W1sZmlsZQ%3D%3D?line=75'>76</a>\u001b[0m     \u001b[39mfor\u001b[39;49;00m tup \u001b[39min\u001b[39;49;00m tuples :\n\u001b[0;32m     <a href='vscode-notebook-cell:/c%3A/xampp/htdocs/livecampus-webscrapping/test.ipynb#W1sZmlsZQ%3D%3D?line=76'>77</a>\u001b[0m         enum \u001b[39m=\u001b[39;49m {\n\u001b[0;32m     <a href='vscode-notebook-cell:/c%3A/xampp/htdocs/livecampus-webscrapping/test.ipynb#W1sZmlsZQ%3D%3D?line=77'>78</a>\u001b[0m             \u001b[39m\"\u001b[39;49m\u001b[39mint\u001b[39;49m\u001b[39m\"\u001b[39;49m : \u001b[39m\"\u001b[39;49m\u001b[39minteger\u001b[39;49m\u001b[39m\"\u001b[39;49m,\n\u001b[0;32m     <a href='vscode-notebook-cell:/c%3A/xampp/htdocs/livecampus-webscrapping/test.ipynb#W1sZmlsZQ%3D%3D?line=78'>79</a>\u001b[0m             \u001b[39m\"\u001b[39;49m\u001b[39mstr\u001b[39;49m\u001b[39m\"\u001b[39;49m : \u001b[39m\"\u001b[39;49m\u001b[39mstring\u001b[39;49m\u001b[39m\"\u001b[39;49m,\n\u001b[0;32m     <a href='vscode-notebook-cell:/c%3A/xampp/htdocs/livecampus-webscrapping/test.ipynb#W1sZmlsZQ%3D%3D?line=79'>80</a>\u001b[0m         }\n\u001b[0;32m     <a href='vscode-notebook-cell:/c%3A/xampp/htdocs/livecampus-webscrapping/test.ipynb#W1sZmlsZQ%3D%3D?line=80'>81</a>\u001b[0m         \u001b[39mprint\u001b[39;49m(\u001b[39m\"\u001b[39;49m\u001b[39mazdazdazdadazdazdadazdada\u001b[39;49m\u001b[39m\"\u001b[39;49m)\n",
      "\u001b[1;31mTypeError\u001b[0m: 'bool' object is not iterable"
     ]
    }
   ],
   "source": [
    "csv_manager = ManagerCSV(episodes)\n",
    "csv_df = csv_manager.data_to_df()\n",
    "csv_manager.df_to_csv(csv_df,\"./data/files/episodes.csv\")\n",
    "csv_tuples = csv_manager.csv_to_tuples(\"./data/files/episodes.csv\")\n",
    "csv_types = csv_manager.verify_types(csv_tuples)"
   ]
  },
  {
   "cell_type": "code",
   "execution_count": null,
   "metadata": {},
   "outputs": [],
   "source": []
  }
 ],
 "metadata": {
  "kernelspec": {
   "display_name": "env",
   "language": "python",
   "name": "python3"
  },
  "language_info": {
   "codemirror_mode": {
    "name": "ipython",
    "version": 3
   },
   "file_extension": ".py",
   "mimetype": "text/x-python",
   "name": "python",
   "nbconvert_exporter": "python",
   "pygments_lexer": "ipython3",
   "version": "3.11.2"
  }
 },
 "nbformat": 4,
 "nbformat_minor": 2
}
